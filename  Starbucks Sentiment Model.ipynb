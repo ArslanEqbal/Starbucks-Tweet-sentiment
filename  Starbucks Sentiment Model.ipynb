{
 "cells": [
  {
   "cell_type": "code",
   "execution_count": 1,
   "metadata": {},
   "outputs": [],
   "source": [
    "import pandas as pd\n",
    "import numpy as np"
   ]
  },
  {
   "cell_type": "code",
   "execution_count": 2,
   "metadata": {},
   "outputs": [],
   "source": [
    "df = pd.read_csv(\"Starbucks.csv\")"
   ]
  },
  {
   "cell_type": "code",
   "execution_count": 3,
   "metadata": {},
   "outputs": [
    {
     "data": {
      "text/html": [
       "<div>\n",
       "<style scoped>\n",
       "    .dataframe tbody tr th:only-of-type {\n",
       "        vertical-align: middle;\n",
       "    }\n",
       "\n",
       "    .dataframe tbody tr th {\n",
       "        vertical-align: top;\n",
       "    }\n",
       "\n",
       "    .dataframe thead th {\n",
       "        text-align: right;\n",
       "    }\n",
       "</style>\n",
       "<table border=\"1\" class=\"dataframe\">\n",
       "  <thead>\n",
       "    <tr style=\"text-align: right;\">\n",
       "      <th></th>\n",
       "      <th>Tweets</th>\n",
       "      <th>Sentiments</th>\n",
       "    </tr>\n",
       "  </thead>\n",
       "  <tbody>\n",
       "    <tr>\n",
       "      <th>0</th>\n",
       "      <td>I wish there was an app that told me how long ...</td>\n",
       "      <td>0</td>\n",
       "    </tr>\n",
       "    <tr>\n",
       "      <th>1</th>\n",
       "      <td>That s awesome No wonder its such a huge succe...</td>\n",
       "      <td>1</td>\n",
       "    </tr>\n",
       "    <tr>\n",
       "      <th>2</th>\n",
       "      <td>Damn i wish my girlfriend didn t still work at...</td>\n",
       "      <td>0</td>\n",
       "    </tr>\n",
       "    <tr>\n",
       "      <th>3</th>\n",
       "      <td>I think I deserve Starbucks today</td>\n",
       "      <td>1</td>\n",
       "    </tr>\n",
       "    <tr>\n",
       "      <th>4</th>\n",
       "      <td>starbucks reserve roastery at tropicana garden...</td>\n",
       "      <td>1</td>\n",
       "    </tr>\n",
       "  </tbody>\n",
       "</table>\n",
       "</div>"
      ],
      "text/plain": [
       "                                              Tweets  Sentiments\n",
       "0  I wish there was an app that told me how long ...           0\n",
       "1  That s awesome No wonder its such a huge succe...           1\n",
       "2  Damn i wish my girlfriend didn t still work at...           0\n",
       "3                  I think I deserve Starbucks today           1\n",
       "4  starbucks reserve roastery at tropicana garden...           1"
      ]
     },
     "execution_count": 3,
     "metadata": {},
     "output_type": "execute_result"
    }
   ],
   "source": [
    "df.head()"
   ]
  },
  {
   "cell_type": "code",
   "execution_count": 4,
   "metadata": {},
   "outputs": [
    {
     "data": {
      "text/plain": [
       "'I wish there was an app that told me how long the line is at Starbuck'"
      ]
     },
     "execution_count": 4,
     "metadata": {},
     "output_type": "execute_result"
    }
   ],
   "source": [
    "df['Tweets'][0]"
   ]
  },
  {
   "cell_type": "code",
   "execution_count": 5,
   "metadata": {},
   "outputs": [
    {
     "data": {
      "text/plain": [
       "0"
      ]
     },
     "execution_count": 5,
     "metadata": {},
     "output_type": "execute_result"
    }
   ],
   "source": [
    "df['Sentiments'][0]"
   ]
  },
  {
   "cell_type": "code",
   "execution_count": 7,
   "metadata": {},
   "outputs": [
    {
     "data": {
      "text/plain": [
       "1    134\n",
       "0     66\n",
       "Name: Sentiments, dtype: int64"
      ]
     },
     "execution_count": 7,
     "metadata": {},
     "output_type": "execute_result"
    }
   ],
   "source": [
    "df['Sentiments'].value_counts()\n",
    "\n",
    "## here 0 represent negative sentiment about that tweet and 1 represent positive tweet "
   ]
  },
  {
   "cell_type": "code",
   "execution_count": 8,
   "metadata": {},
   "outputs": [
    {
     "name": "stderr",
     "output_type": "stream",
     "text": [
      "[nltk_data] Downloading package stopwords to\n",
      "[nltk_data]     C:\\Users\\AASHU\\AppData\\Roaming\\nltk_data...\n",
      "[nltk_data]   Package stopwords is already up-to-date!\n"
     ]
    },
    {
     "data": {
      "text/plain": [
       "True"
      ]
     },
     "execution_count": 8,
     "metadata": {},
     "output_type": "execute_result"
    }
   ],
   "source": [
    "import nltk\n",
    "\n",
    "nltk.download('stopwords')"
   ]
  },
  {
   "cell_type": "markdown",
   "metadata": {},
   "source": [
    "### USING NLTK LIBRARY FOR DATA PREPROCESSING"
   ]
  },
  {
   "cell_type": "code",
   "execution_count": 13,
   "metadata": {},
   "outputs": [],
   "source": [
    "from nltk.corpus import stopwords\n",
    "from nltk.stem.porter import PorterStemmer\n",
    "import re"
   ]
  },
  {
   "cell_type": "code",
   "execution_count": 14,
   "metadata": {},
   "outputs": [],
   "source": [
    "ps = PorterStemmer()\n",
    "## object used for stemming"
   ]
  },
  {
   "cell_type": "code",
   "execution_count": 21,
   "metadata": {},
   "outputs": [],
   "source": [
    "## begin with the preprocessing with the text data\n",
    "\n",
    "corpus = []\n",
    "\n",
    "for i in range(0,len(df)):\n",
    "    review = re.sub('[^a-zA-Z]',' ',df['Tweets'][i])\n",
    "    review = review.lower()\n",
    "    review = review.split()\n",
    "    \n",
    "    review = [ps.stem(word)for word in review if not word in stopwords.words('english')]\n",
    "    \n",
    "    review = ' '.join(review)\n",
    "    \n",
    "    corpus.append(review)\n",
    "    \n",
    "    \n",
    "    \n",
    "    "
   ]
  },
  {
   "cell_type": "code",
   "execution_count": 22,
   "metadata": {},
   "outputs": [
    {
     "data": {
      "text/plain": [
       "['wish app told long line starbuck',\n",
       " 'awesom wonder huge success everyon know starbuck never co au oh wait',\n",
       " 'damn wish girlfriend still work starbuck much dirt mani peopl woke feel messi today smh',\n",
       " 'think deserv starbuck today',\n",
       " 'starbuck reserv roasteri tropicana garden soon',\n",
       " 'whoever paid breakfast coffe drive thru front starbuck love',\n",
       " 'want breakfast starbuck',\n",
       " 'sign door williamsvil store close unexpectedli',\n",
       " 'starbuck near job close dayssss covid',\n",
       " 'treat starbuck',\n",
       " 'want work starbuck hire england click link bio detail job shi',\n",
       " 'okay guy starbuck take order made whole day',\n",
       " 'work home week want run get starbuck coffe drink coffe home',\n",
       " 'mayb wear mask protect other realli much ask popul will risk run',\n",
       " 'could alway ask boy learn recip thank later',\n",
       " 'starbuck sbux short shorten coffe bean without go cibai cibai',\n",
       " 'first time left sauga nearli month drop mom work guzzl starbuck coffe feel',\n",
       " 'wanna rock black live matter shirt better starbuck',\n",
       " 'starbuck al khiran al ahmadi',\n",
       " 'coffe chain area would say caff nero nicest coffe follow costa coff',\n",
       " 'level starbuck pull greet name',\n",
       " 'drive starbuck parc pensarn',\n",
       " 'fulli tit starbuck',\n",
       " 'idk feel like comparison cloth shoe mayb lol bc main reason bc custom ser',\n",
       " 'starbuck holiday',\n",
       " 'starbuck dunkin today',\n",
       " 'handwrit markmanship harvest year even still three day away',\n",
       " 'hate starbuck name cup size stop tri act like hot shit use l xl',\n",
       " 'get big straw cup would advic got starbuck one home proper water',\n",
       " 'c mon app add canadian retail stack serious drink starbuck coffe',\n",
       " 'tf mean lmao starbuck employe danc bodi',\n",
       " 'dreami anoth level act like noth happen went starbuck',\n",
       " 'educ r french roast coffe ihatedunkin ihatestarbuck',\n",
       " 'cyber monday bring two starbuck deal includ coupon free drink egift card plu starbuck',\n",
       " 'let roll ass target coffe back crack formal known starbuck',\n",
       " 'never starbuck alon ww drink coffe',\n",
       " 'lesson learn today go starbuck around pm',\n",
       " 'pour forgot umbrella starbuck close get dunkin work',\n",
       " 'polit scienc major complet worthless degre th',\n",
       " 'wish starbuck could bring back cloud macchiato',\n",
       " 'cybermonday deal would great starbuck shut shop',\n",
       " 'ye ye hyung ti starbuck',\n",
       " 'start take littl ride starbuck morn coffe f dunkin',\n",
       " 'st nd kind coffe refer real coffe coffe flavor milkshak starbuck sell',\n",
       " 'forgot starbuck cup',\n",
       " 'get morn would lot easier bedsid deliveri',\n",
       " 'men confus starbuck menu',\n",
       " 'day happi day studi english class line starbuck afternoon hope contro',\n",
       " 'think salt caramel beat',\n",
       " 'think restaur fine starbuck outchear call polic brother tryna use wh',\n",
       " 'happier two delici starbuck holidaycoffe peppermint mocha holiday blend ur',\n",
       " 'retail job might great fit click link bio see shift supervisor sto',\n",
       " 'starbuck green tea cream frappuccino top tier',\n",
       " 'minut road omw work realiz forget phone go get still forget',\n",
       " 'still realli want starbuck though also ignor button pop',\n",
       " 'shortag eggnog latt someth store day two sold',\n",
       " 'unh kuch bhi dalkar dedo starbuck ke cup mein b happi',\n",
       " 'go wear get starbuck realiz rain hard outsid would look stupid blow',\n",
       " 'almost laugh loud starbuck',\n",
       " 'today firstday sa optum nowher rememb starbuck wrote',\n",
       " 'mean lot sugar drink coffe starbuck',\n",
       " 'christma blend coffe bean starbuck right world',\n",
       " 'medicin ball one best drink starbuck offer',\n",
       " 'never give fight starbuck',\n",
       " 'starbuck starbuckscoffe',\n",
       " 'shit becom starbuck throw molotav covid wealth transfer',\n",
       " 'yall like coffe starbuck cool',\n",
       " 'becki time weekli podcast also becom surrog outdoor activ like chat friend',\n",
       " 'new starbuck possibl buy one get one later off',\n",
       " 'starbuck us nitrogen base surger coffe guin freak awe',\n",
       " 'good morn alreadi starbuck nd time hour starbuckscoffe maskupbuckey',\n",
       " 'drifloon forgot genshin momentarili thought ci tri gender starbuck size wa',\n",
       " 'got point first american robertmcke',\n",
       " 'queen sushi shein starbuck wow lowkey sound cool',\n",
       " 'bitch starbuck realli done pmo w hot blueberri muffin hoe moist',\n",
       " 'someon let know pumpkin leav mental prepar',\n",
       " 'rough start thank starbuck rude let go back sleep n tri hour',\n",
       " 'starbuck look teammat like see latest retail job open includ barista store',\n",
       " 'chri mate yesterday man china boom drive mcdonald k',\n",
       " 'starbuck christma cup offici christma christma tune van',\n",
       " 'oftenmakesmorningsgreat starbuck go today though mayb tomorrow',\n",
       " 'what kyungsoo fav starbuck',\n",
       " 'food terribl bash mcd popular last time ate anyth w',\n",
       " 'sleep eat starbuck',\n",
       " 'two girl work starbuck day compliment hair went drive thru',\n",
       " 'grogu e saga fake name starbuck',\n",
       " 'miss today cybermonday',\n",
       " 'want xma starbuck',\n",
       " 'goodmorn findom start day right starbuck gift card sent email findomm goddess huma',\n",
       " 'wish could teleport starbuck rn',\n",
       " 'love come work amp besti starbuck wait whole heart',\n",
       " 'favorit tiktokdrink starbuck',\n",
       " 'go chill starbuck',\n",
       " 'horribl take absolut big deal feder govern choos fema',\n",
       " 'beauti sunris morn crisp hot bagel win life good livin',\n",
       " 'old offic pace starbuck new offic mcdonald build work home give',\n",
       " 'today gon long day might well order starbuck',\n",
       " 'cw food sister bought us starbuck',\n",
       " 'first week cut starbuck',\n",
       " 'overpr anyway',\n",
       " 'hire bluewat click link bio appli job barista store bluewa',\n",
       " 'coffe creamer expir away thank starbuck star morn freecofee',\n",
       " 'starbuck mubarak al kabeer',\n",
       " 'spent like uber eat get starbuck seem like good idea first feel bad lmao',\n",
       " 'brian goe hollywood lose script starbuck guy call pretend ja',\n",
       " 'time starbuck open dalla',\n",
       " 'goodby miss chenra bc starbuck',\n",
       " 'cloudi sky amp starbuck',\n",
       " 'johnson starbuck lol',\n",
       " 'starbuck close dayum',\n",
       " 'shi score job like shift supervisor store manchest barton starbuck ask r',\n",
       " 'amazon lyft uber starbuck walmart target low home depot billion dollar cor',\n",
       " 'starbuck airport black pink marathon',\n",
       " 'kid discount give c regular order mean get two free drink buy enough starbuck right',\n",
       " 'current fav starbuck drink asian dolc latt extra shot amp caramel upsid',\n",
       " 'wow starbuck krispi kreme mcdonald',\n",
       " 'vip hart real bot seen human studi art soft scie',\n",
       " 'morn girl drive thru window starbuck told pretti gorgeou eye w',\n",
       " 'ye mayb final order starbuck',\n",
       " 'nct dream like struggl tweet like got detain chilen airport got starbuck af',\n",
       " 'hope jenna amp liar enabl never find respons work mayb ca',\n",
       " 'starbuck',\n",
       " 'starbuck',\n",
       " 'bought brevil ever turn back end first week make espr',\n",
       " 'u govern creat good pay job american b',\n",
       " 'look score job starbuck luck click link bio job descript informat',\n",
       " 'starbuck matcha latt good tho',\n",
       " 'wilbur would total starbuck worker',\n",
       " 'hour wait okay burger wait minut starbuck get littl antsi',\n",
       " 'daebak starbuck buy get',\n",
       " 'good morn everyon went got pink drink great start kind morn ev',\n",
       " 'starbuck tho',\n",
       " 'def go starbuck alreadi late',\n",
       " 'starbuck',\n",
       " 'starbuck weekday',\n",
       " 'queen guava mous starbuck',\n",
       " 'brought starbuck',\n",
       " 'muslim still think usa middl east build starbuck coffe shop hang pride flag',\n",
       " 'mix chocol chip starbuck coffe coffe filter morn coffe tast choc chip',\n",
       " 'famili mart mmg call famina japan like shorten everyth like sutaba starbuck',\n",
       " 'starbuck jeddah makkah',\n",
       " 'like mani restaur retail starbuck sever affect impact covid pandem',\n",
       " 'lawsuit alleg starbuck fire christian barista refus wear lgbt pride shirt',\n",
       " 'like mani restaur retail starbuck sever affect impact covid pandem',\n",
       " 'starbuck',\n",
       " 'idk new polici order starbuck deliveri come pretti nice look',\n",
       " 'hey cool drink even fill thing',\n",
       " 'starbuck tea cup',\n",
       " 'want starbuck today pay forward piglet tinyberri findom find paypig humanatm footdomm footfetish wal',\n",
       " 'starbuck jeddah makkah',\n",
       " 'interest job england could great fit retail',\n",
       " 'wore old blm starbuck shirt work owe shorti tumbler',\n",
       " 'close sit drive thru min barista sat n ignor tri',\n",
       " 'starbuck fire nj barista refus wear pride shirt lawsuit claim career',\n",
       " 'help starbuck barista one make grand caramel ice latt pltpinkmonday',\n",
       " 'tf starbuck suppli',\n",
       " 'alarm starbuck run work',\n",
       " 'ever tri starbuck famou gingerbread latt',\n",
       " 'pretti sure mention think get almond milk starbuck order',\n",
       " 'starbuck addict highli recommend buy nespressoexpresso worth everi penni',\n",
       " 'starbuck',\n",
       " 'coffe person realli want tri toffe nut latt drink starbuck',\n",
       " 'want work starbuck hire gbr click detail retail',\n",
       " 'complimentari slice brithday cake fr starbuck hehe last day redeem almost forgot',\n",
       " 'new chai tea horribl pleas bring old flavor back share drink',\n",
       " 'yessir digit download less cup starbuck prin',\n",
       " 'help scrape complet list starbuck store locat usa includ geo code address etc f',\n",
       " 'actual copypasta dont consum long sweet starbuck drink bc know minghao',\n",
       " 'starbuck amp chai wala take money fr',\n",
       " 'usual starbuck place rn barista friend sweet even ask play bt song soft',\n",
       " 'starbuck made matcha wrong',\n",
       " 'hire londoncolney england click link bio appli job barista store',\n",
       " 'web dev fair daili starbuck probabl help either',\n",
       " 'starbuck',\n",
       " 'toffe nut latt season time year see drink ice coffe starbuck co alway get htp',\n",
       " 'job interview talk busi one first question howard schultz starbuck like ask',\n",
       " 'sbux uptrend move averag converg diverg macd histogram turn posit view odd',\n",
       " 'great resourc explain emphas build ill script understand put u',\n",
       " 'part use gatoradecoolblu oz cap dasani bodi le mineral neck flip starbuck cup bottom background b',\n",
       " 'nom starbuck hot coffe subpar starbuck frappucino slap though',\n",
       " 'r afford spend equip make virtual',\n",
       " 'greek italian sit starbuck one day discuss superior cultur tripl latt',\n",
       " 'come starbuck nearbi savemor',\n",
       " 'istg men annoy starbuck tri studi two mf kept take turn tri con',\n",
       " 'starbuck tast',\n",
       " 'quick treat starbuck',\n",
       " 'someon bring starbuck',\n",
       " 'scamand love starbuck',\n",
       " 'starbuck back open today serv takeaway today tomorrow access extern ter',\n",
       " 'favorit ice coffe starbuck',\n",
       " 'check ad closet poshmark starbuck coffe mug rosanna gold geometr',\n",
       " 'starbuck barista xu minghao glare peopl order venti carmel frappuccino non fat coconut milk exa',\n",
       " 'coffe someth swallow use local sure whatev town citi plast',\n",
       " 'starbuck',\n",
       " 'want starbuck bring irish cream cold brew back',\n",
       " 'wake dividend starbuck boss sbux dividend',\n",
       " 'starbuck job got inconsist schedul ever seen run like corner store',\n",
       " 'ughhhh realli wish still exist',\n",
       " 'fanci treat christma coffe stock ask latt hazelnut',\n",
       " 'starbuck coffe mug charlott collect mug seri oz cad via']"
      ]
     },
     "execution_count": 22,
     "metadata": {},
     "output_type": "execute_result"
    }
   ],
   "source": [
    "corpus"
   ]
  },
  {
   "cell_type": "markdown",
   "metadata": {},
   "source": [
    "### now we are using stop words which is present in count vectorizer"
   ]
  },
  {
   "cell_type": "code",
   "execution_count": 23,
   "metadata": {},
   "outputs": [],
   "source": [
    "from sklearn.feature_extraction.text import CountVectorizer\n",
    "\n",
    "cv = CountVectorizer(max_features = 2000)"
   ]
  },
  {
   "cell_type": "markdown",
   "metadata": {},
   "source": [
    "#### Now dividing our data with independent and dependent feature"
   ]
  },
  {
   "cell_type": "code",
   "execution_count": 24,
   "metadata": {},
   "outputs": [],
   "source": [
    "X = cv.fit_transform(corpus).toarray()"
   ]
  },
  {
   "cell_type": "code",
   "execution_count": 25,
   "metadata": {},
   "outputs": [
    {
     "data": {
      "text/plain": [
       "array([[0, 0, 0, ..., 0, 0, 0],\n",
       "       [0, 0, 0, ..., 0, 0, 0],\n",
       "       [0, 0, 0, ..., 0, 0, 0],\n",
       "       ...,\n",
       "       [0, 0, 0, ..., 0, 0, 0],\n",
       "       [0, 0, 0, ..., 0, 0, 0],\n",
       "       [0, 0, 0, ..., 0, 0, 0]], dtype=int64)"
      ]
     },
     "execution_count": 25,
     "metadata": {},
     "output_type": "execute_result"
    }
   ],
   "source": [
    "X"
   ]
  },
  {
   "cell_type": "code",
   "execution_count": 28,
   "metadata": {},
   "outputs": [],
   "source": [
    "y = df['Sentiments'].values"
   ]
  },
  {
   "cell_type": "code",
   "execution_count": 29,
   "metadata": {},
   "outputs": [
    {
     "data": {
      "text/plain": [
       "array([0, 1, 0, 1, 1, 1, 1, 0, 0, 1, 1, 1, 1, 0, 0, 1, 1, 0, 1, 0, 1, 1,\n",
       "       0, 0, 1, 1, 1, 0, 1, 0, 0, 0, 0, 1, 1, 0, 0, 0, 0, 0, 1, 1, 1, 0,\n",
       "       1, 0, 0, 1, 1, 1, 1, 1, 1, 0, 1, 0, 1, 0, 1, 1, 0, 1, 1, 0, 0, 1,\n",
       "       1, 1, 1, 1, 1, 0, 1, 1, 1, 0, 0, 1, 0, 1, 1, 1, 0, 1, 1, 0, 1, 1,\n",
       "       1, 1, 1, 1, 1, 0, 1, 0, 1, 1, 0, 0, 1, 1, 1, 0, 0, 1, 1, 1, 1, 0,\n",
       "       1, 1, 0, 1, 1, 1, 1, 1, 1, 1, 1, 1, 1, 1, 1, 1, 1, 1, 0, 1, 0, 1,\n",
       "       1, 1, 0, 1, 1, 0, 1, 1, 1, 0, 0, 0, 1, 1, 0, 1, 1, 1, 1, 0, 0, 0,\n",
       "       1, 0, 1, 1, 1, 0, 1, 1, 1, 1, 0, 0, 1, 0, 0, 1, 0, 1, 0, 1, 1, 1,\n",
       "       1, 0, 1, 1, 0, 1, 1, 0, 1, 1, 1, 1, 1, 1, 1, 1, 1, 1, 1, 1, 1, 0,\n",
       "       1, 1], dtype=int64)"
      ]
     },
     "execution_count": 29,
     "metadata": {},
     "output_type": "execute_result"
    }
   ],
   "source": [
    "y"
   ]
  },
  {
   "cell_type": "markdown",
   "metadata": {},
   "source": [
    "Applying multinomial naive bayes algorithm to separate both classes"
   ]
  },
  {
   "cell_type": "code",
   "execution_count": 31,
   "metadata": {},
   "outputs": [],
   "source": [
    "from sklearn.model_selection import train_test_split\n",
    "\n",
    "X_train,X_test,y_train,y_test = train_test_split(X,y , test_size = 0.25 , random_state = 10)"
   ]
  },
  {
   "cell_type": "code",
   "execution_count": 34,
   "metadata": {},
   "outputs": [
    {
     "data": {
      "text/plain": [
       "MultinomialNB(alpha=1.0, class_prior=None, fit_prior=True)"
      ]
     },
     "execution_count": 34,
     "metadata": {},
     "output_type": "execute_result"
    }
   ],
   "source": [
    "from sklearn.naive_bayes import MultinomialNB\n",
    "\n",
    "sentiment_MNB_model = MultinomialNB()\n",
    "\n",
    "sentiment_MNB_model.fit(X_train , y_train)"
   ]
  },
  {
   "cell_type": "code",
   "execution_count": 35,
   "metadata": {},
   "outputs": [],
   "source": [
    "y_pred = sentiment_MNB_model.predict(X_test)"
   ]
  },
  {
   "cell_type": "code",
   "execution_count": 36,
   "metadata": {},
   "outputs": [],
   "source": [
    "from sklearn.metrics import accuracy_score"
   ]
  },
  {
   "cell_type": "code",
   "execution_count": 37,
   "metadata": {},
   "outputs": [
    {
     "data": {
      "text/plain": [
       "0.6"
      ]
     },
     "execution_count": 37,
     "metadata": {},
     "output_type": "execute_result"
    }
   ],
   "source": [
    "accuracy_score(y_test,y_pred)"
   ]
  },
  {
   "cell_type": "code",
   "execution_count": 38,
   "metadata": {},
   "outputs": [],
   "source": [
    "from sklearn.metrics import confusion_matrix"
   ]
  },
  {
   "cell_type": "code",
   "execution_count": 39,
   "metadata": {},
   "outputs": [
    {
     "data": {
      "text/plain": [
       "array([[ 7, 11],\n",
       "       [ 9, 23]], dtype=int64)"
      ]
     },
     "execution_count": 39,
     "metadata": {},
     "output_type": "execute_result"
    }
   ],
   "source": [
    "confusion_matrix(y_test,y_pred)"
   ]
  },
  {
   "cell_type": "markdown",
   "metadata": {},
   "source": [
    "### NOW USING LSTMS FOR BETTER PREDICTIONS"
   ]
  },
  {
   "cell_type": "code",
   "execution_count": 51,
   "metadata": {},
   "outputs": [],
   "source": [
    "import tensorflow as tf\n",
    "\n",
    "from tensorflow.keras.layers import Embedding\n",
    "from tensorflow.keras.layers import Dense\n",
    "from tensorflow.keras.models import Sequential\n",
    "from tensorflow.keras.preprocessing.text import one_hot\n",
    "from tensorflow.keras.preprocessing.sequence import pad_sequences\n",
    "from tensorflow.keras.layers import LSTM\n",
    "from tensorflow.keras.layers import Dropout\n"
   ]
  },
  {
   "cell_type": "code",
   "execution_count": 52,
   "metadata": {},
   "outputs": [],
   "source": [
    "vocabulary_size = 5000"
   ]
  },
  {
   "cell_type": "code",
   "execution_count": 53,
   "metadata": {},
   "outputs": [],
   "source": [
    "one_hot_representation = [one_hot(words,vocabulary_size) for words in corpus]"
   ]
  },
  {
   "cell_type": "code",
   "execution_count": 54,
   "metadata": {},
   "outputs": [
    {
     "data": {
      "text/plain": [
       "[[468, 1813, 2521, 778, 2719, 1374],\n",
       " [2741, 477, 4279, 4938, 2990, 4981, 1374, 4681, 240, 2574, 2540, 388],\n",
       " [3439,\n",
       "  468,\n",
       "  3102,\n",
       "  2976,\n",
       "  3165,\n",
       "  1374,\n",
       "  4172,\n",
       "  1824,\n",
       "  1418,\n",
       "  673,\n",
       "  3881,\n",
       "  3747,\n",
       "  2444,\n",
       "  1457,\n",
       "  4415],\n",
       " [2145, 2329, 1374, 1457],\n",
       " [1374, 2, 94, 2382, 1422, 3320],\n",
       " [3511, 3504, 461, 2654, 3209, 2224, 535, 1374, 1002],\n",
       " [1627, 461, 1374],\n",
       " [1277, 4459, 1896, 3062, 1506, 3472],\n",
       " [1374, 437, 1083, 1506, 3831, 145],\n",
       " [3863, 1374],\n",
       " [1627, 3165, 1374, 4964, 3163, 4073, 3660, 4221, 970, 1083, 1644],\n",
       " [3401, 702, 1374, 1176, 370, 3787, 1966, 324],\n",
       " [3165, 232, 4485, 1627, 3506, 3951, 1374, 2654, 4825, 2654, 232],\n",
       " [1820, 4117, 3117, 2867, 1099, 3350, 4172, 1636, 1196, 3646, 386, 3506],\n",
       " [1763, 2034, 1636, 624, 3410, 1645, 3007, 957],\n",
       " [1374, 4664, 196, 115, 2654, 1494, 565, 805, 3641, 3641],\n",
       " [3858,\n",
       "  1829,\n",
       "  4202,\n",
       "  2628,\n",
       "  1709,\n",
       "  2644,\n",
       "  2493,\n",
       "  4768,\n",
       "  3165,\n",
       "  3984,\n",
       "  1374,\n",
       "  2654,\n",
       "  3747],\n",
       " [1543, 3295, 3272, 873, 3095, 2516, 3803, 1374],\n",
       " [1374, 4939, 558, 4939, 3663],\n",
       " [2654, 3871, 2919, 464, 207, 196, 225, 3099, 2654, 4018, 20, 3724],\n",
       " [508, 1374, 4572, 1596, 3784],\n",
       " [3209, 1374, 2445, 17],\n",
       " [3617, 1023, 1374],\n",
       " [2614,\n",
       "  3747,\n",
       "  1893,\n",
       "  4853,\n",
       "  137,\n",
       "  2947,\n",
       "  1820,\n",
       "  3755,\n",
       "  2473,\n",
       "  223,\n",
       "  79,\n",
       "  2473,\n",
       "  3049,\n",
       "  3988],\n",
       " [1374, 4769],\n",
       " [1374, 203, 1457],\n",
       " [1102, 1109, 2453, 1076, 900, 2976, 3895, 324, 720],\n",
       " [3700,\n",
       "  1374,\n",
       "  3784,\n",
       "  1837,\n",
       "  2487,\n",
       "  4376,\n",
       "  3085,\n",
       "  2088,\n",
       "  1893,\n",
       "  2072,\n",
       "  1920,\n",
       "  4390,\n",
       "  3755,\n",
       "  1640],\n",
       " [3951, 4993, 4687, 1837, 464, 4351, 4429, 1374, 1607, 232, 4783, 2621],\n",
       " [3079, 1829, 1813, 1428, 2026, 4356, 3996, 2515, 4825, 1374, 2654],\n",
       " [4991, 2029, 3750, 1374, 3550, 4038, 4775],\n",
       " [1249, 3510, 508, 2088, 1893, 2823, 2475, 4117, 1374],\n",
       " [556, 4695, 214, 4421, 2654, 4191, 1280],\n",
       " [956,\n",
       "  3562,\n",
       "  2915,\n",
       "  4619,\n",
       "  1374,\n",
       "  916,\n",
       "  796,\n",
       "  4199,\n",
       "  1033,\n",
       "  4825,\n",
       "  3259,\n",
       "  4811,\n",
       "  2844,\n",
       "  1374],\n",
       " [361, 3889, 977, 360, 2654, 4958, 1242, 1028, 982, 1374],\n",
       " [4681, 1374, 2145, 1107, 4825, 2654],\n",
       " [1509, 3410, 1457, 805, 1374, 382, 4001],\n",
       " [948, 4111, 1233, 1374, 1506, 3951, 203, 3165],\n",
       " [4622, 2863, 366, 2079, 1313, 2564, 2774],\n",
       " [468, 1374, 1763, 2915, 4958, 1538, 136],\n",
       " [2153, 916, 464, 2723, 1374, 2194, 2440],\n",
       " [1719, 1719, 2784, 3562, 1374],\n",
       " [3633, 1176, 3883, 1668, 1374, 4375, 2654, 3618, 203],\n",
       " [142, 1280, 4605, 2654, 3246, 4029, 2654, 2654, 1643, 4966, 1374, 72],\n",
       " [4111, 1374, 1837],\n",
       " [3951, 4375, 464, 4067, 4869, 4800, 4178],\n",
       " [2284, 1355, 1374, 1130],\n",
       " [324, 2765, 324, 3027, 3962, 4806, 2719, 1374, 2353, 483, 1000],\n",
       " [2145, 3873, 2627, 262],\n",
       " [2145, 1821, 640, 1374, 2224, 3180, 969, 485, 4080, 4390, 1798],\n",
       " [3782, 4619, 4130, 1374, 1489, 242, 1984, 4769, 4259, 809],\n",
       " [4356, 1083, 289, 2723, 4384, 4073, 3660, 4221, 2453, 557, 3143, 1663],\n",
       " [1374, 320, 664, 979, 2814, 2496, 1013],\n",
       " [1433, 332, 1016, 3165, 554, 1853, 3314, 805, 3951, 2976, 1853],\n",
       " [2976, 3350, 1627, 1374, 1058, 103, 4762, 303, 284],\n",
       " [3509, 3797, 1433, 4949, 3062, 324, 4619, 3492],\n",
       " [822, 4897, 374, 2847, 4749, 1374, 4412, 1837, 483, 2096, 2765],\n",
       " [805, 4117, 3951, 1374, 554, 4843, 338, 819, 464, 2506, 580, 2890],\n",
       " [2167, 3909, 2465, 1374],\n",
       " [1457, 1630, 4276, 2361, 2540, 2415, 1374, 3279],\n",
       " [2029, 4067, 2701, 4825, 2654, 1374],\n",
       " [2647, 4259, 2654, 1494, 1374, 2059, 2080],\n",
       " [1207, 2580, 1607, 4794, 4825, 1374, 3197],\n",
       " [4681, 25, 848, 1374],\n",
       " [1374, 1148],\n",
       " [1920, 4653, 1374, 3551, 1093, 145, 4846, 1906],\n",
       " [531, 1893, 2654, 1374, 4710],\n",
       " [4947, 1829, 4846, 3792, 103, 4653, 4811, 3537, 2009, 1893, 504, 3571],\n",
       " [2866, 1374, 2078, 1491, 1607, 3951, 1607, 957, 947],\n",
       " [1374, 421, 156, 3245, 2495, 2654, 2348, 552, 3261],\n",
       " [1683, 4375, 4893, 1374, 1280, 1829, 2049, 1148, 1068],\n",
       " [2262, 4111, 2886, 2446, 537, 4046, 3085, 819, 1374, 2487, 1075],\n",
       " [4429, 2632, 3858, 1422, 4370],\n",
       " [2984, 1672, 4395, 1374, 4044, 2192, 1574, 4710],\n",
       " [1085, 1374, 3350, 3859, 1139, 1533, 2072, 4068, 3623, 1610, 1804],\n",
       " [1781, 361, 4981, 2415, 2013, 3244, 1029],\n",
       " [1928, 3633, 3007, 1374, 4765, 361, 805, 4958, 2862, 331, 3085, 2049],\n",
       " [1374, 2506, 3820, 1893, 2453, 3916, 4356, 1083, 183, 796, 863, 3062],\n",
       " [523, 3291, 4140, 3522, 2675, 914, 3209, 3440, 945],\n",
       " [1374, 2647, 1837, 967, 2647, 2647, 1239, 3864],\n",
       " [4988, 1374, 805, 1457, 1058, 1820, 4571],\n",
       " [4043, 1422, 4422, 1374],\n",
       " [871, 1692, 1281, 4181, 2985, 2443, 1829, 378, 3174, 1533],\n",
       " [2862, 841, 1374],\n",
       " [4619, 1178, 3165, 1374, 324, 1127, 3570, 4117, 3209, 2224],\n",
       " [3204, 3683, 2616, 1373, 3784, 1374],\n",
       " [2254, 1457, 2153],\n",
       " [1627, 3205, 1374],\n",
       " [4097, 2480, 3633, 324, 2059, 1374, 4497, 4811, 775, 1984, 1663, 3637, 2040],\n",
       " [468, 1763, 3118, 1374, 2549],\n",
       " [1002, 4791, 3165, 2114, 2689, 1374, 388, 1966, 1070],\n",
       " [3498, 1159, 1374],\n",
       " [805, 3412, 1374],\n",
       " [1869, 1176, 1730, 4993, 916, 4580, 4198, 4381, 914],\n",
       " [41, 1192, 4375, 3620, 2072, 1544, 1024, 2224, 1683, 3867],\n",
       " [1724, 3948, 4650, 1374, 2866, 3948, 3440, 164, 3165, 232, 25],\n",
       " [1457, 3635, 778, 324, 289, 2374, 370, 1374],\n",
       " [1473, 871, 1674, 3388, 421, 1374],\n",
       " [3858, 4485, 2236, 1374],\n",
       " [1434, 4914],\n",
       " [4964, 314, 4073, 3660, 4221, 2929, 1083, 863, 3062, 2248],\n",
       " [2654, 3344, 4340, 720, 3007, 1374, 809, 4375, 3247],\n",
       " [1374, 3644, 4939, 2640],\n",
       " [692,\n",
       "  1893,\n",
       "  3083,\n",
       "  841,\n",
       "  3951,\n",
       "  1374,\n",
       "  3310,\n",
       "  1893,\n",
       "  1683,\n",
       "  735,\n",
       "  3858,\n",
       "  3747,\n",
       "  4208,\n",
       "  3750],\n",
       " [4489, 1273, 4432, 1551, 1356, 1374, 702, 3180, 1010, 3416],\n",
       " [1829, 1374, 183, 4116],\n",
       " [3788, 2254, 2637, 2473, 1374],\n",
       " [3895, 2916, 2114, 1374],\n",
       " [4510, 1374, 3755],\n",
       " [1374, 1506, 4475],\n",
       " [1644, 337, 1083, 1893, 557, 3143, 3062, 13, 2256, 1374, 1636, 4695],\n",
       " [4496, 559, 3083, 1374, 1997, 360, 1273, 232, 4136, 4876, 3154, 4483],\n",
       " [1374, 265, 3272, 4783, 3015],\n",
       " [2413,\n",
       "  357,\n",
       "  25,\n",
       "  3079,\n",
       "  3913,\n",
       "  370,\n",
       "  2029,\n",
       "  3951,\n",
       "  4619,\n",
       "  1033,\n",
       "  4825,\n",
       "  1491,\n",
       "  4850,\n",
       "  1374,\n",
       "  2059],\n",
       " [3380, 4422, 1374, 4825, 3726, 2619, 1433, 3228, 915, 2114, 2627, 1734],\n",
       " [4044, 1374, 4971, 4428, 3440],\n",
       " [655, 1857, 4029, 86, 399, 603, 3027, 3887, 4621, 2276],\n",
       " [4375, 1178, 3209, 2224, 587, 1374, 2521, 4948, 2068, 3261, 1533],\n",
       " [1719, 1820, 1436, 370, 1374],\n",
       " [939, 1007, 1893, 2765, 1389, 1893, 4429, 2262, 1076, 265, 4429, 1374, 2996],\n",
       " [483, 2345, 2114, 135, 4391, 4681, 427, 4611, 3165, 1820, 331],\n",
       " [1374],\n",
       " [1374],\n",
       " [3388, 1207, 4056, 4202, 4958, 3616, 3858, 4485, 3759, 4529],\n",
       " [2899, 4198, 3598, 1683, 279, 1083, 1422, 2096],\n",
       " [2506, 337, 1083, 1374, 1247, 4073, 3660, 4221, 1083, 3498, 4554],\n",
       " [1374, 1655, 1433, 1683, 4827],\n",
       " [595, 464, 4946, 1374, 3536],\n",
       " [2049, 388, 3401, 4116, 388, 1433, 1374, 3951, 3883, 700],\n",
       " [2901, 1374, 1491, 3951],\n",
       " [1683, 4375, 2990, 4117, 4429, 4783, 4825, 2723, 3633, 4605, 4375, 185],\n",
       " [1374, 4827],\n",
       " [2482, 805, 1374, 4893, 3345],\n",
       " [1374],\n",
       " [1374, 3130],\n",
       " [2984, 2290, 3783, 1374],\n",
       " [2172, 1374],\n",
       " [3399, 2976, 2145, 2827, 1208, 2257, 164, 1374, 2654, 2440, 1713, 4425, 3476],\n",
       " [2203, 116, 2308, 1374, 2654, 2654, 2565, 4375, 2654, 3329, 3922, 2308],\n",
       " [317, 2355, 2718, 3180, 3696, 4196, 1893, 115, 333, 1893, 3511, 1374],\n",
       " [1374, 4087, 4442],\n",
       " [1893, 1418, 1821, 4356, 1374, 1804, 3551, 1856, 145, 3383],\n",
       " [442, 182, 1374, 508, 3376, 863, 1649, 4117, 3244, 4425, 2516],\n",
       " [1893, 1418, 1821, 4356, 1374, 1804, 3551, 1856, 145, 3383],\n",
       " [1374],\n",
       " [2614, 2866, 1127, 370, 1374, 4178, 4791, 4948, 2530, 2506],\n",
       " [4981, 4710, 4825, 900, 100, 4250],\n",
       " [1374, 664, 1837],\n",
       " [1627,\n",
       "  1374,\n",
       "  1457,\n",
       "  279,\n",
       "  2955,\n",
       "  1734,\n",
       "  1588,\n",
       "  2480,\n",
       "  427,\n",
       "  3987,\n",
       "  515,\n",
       "  2593,\n",
       "  4411,\n",
       "  3981],\n",
       " [1374, 4087, 4442],\n",
       " [3313, 1083, 3163, 1763, 2723, 4384, 4356],\n",
       " [4709, 1724, 4198, 1374, 2516, 3165, 3884, 2745, 3804],\n",
       " [1506, 124, 3209, 2224, 1649, 863, 2837, 331, 4762, 3085],\n",
       " [1374, 508, 2853, 863, 1649, 4117, 4425, 2516, 442, 4559, 752],\n",
       " [315, 1374, 863, 1607, 3759, 2336, 2627, 789, 1433, 847],\n",
       " [4991, 1374, 3314],\n",
       " [3453, 1374, 3506, 3165],\n",
       " [4056, 3085, 1374, 3354, 1212, 1433],\n",
       " [4948, 4236, 1975, 2145, 3951, 1120, 3955, 1374, 370],\n",
       " [1374, 3440, 1153, 2289, 1491, 974, 3487, 1941, 3854],\n",
       " [1374],\n",
       " [2654, 4147, 3350, 1627, 3085, 4427, 3784, 1433, 4825, 1374],\n",
       " [1627, 3165, 1374, 4964, 2144, 4073, 970, 4356],\n",
       " [2944, 4046, 4008, 2363, 4671, 1374, 2592, 2443, 324, 423, 2167, 4111],\n",
       " [2866, 1748, 664, 1869, 1750, 2915, 1724, 1643, 4958, 4536, 4825],\n",
       " [2313, 4316, 4786, 294, 1837, 1374, 4357],\n",
       " [315,\n",
       "  1021,\n",
       "  2079,\n",
       "  59,\n",
       "  1374,\n",
       "  3062,\n",
       "  448,\n",
       "  2827,\n",
       "  796,\n",
       "  2193,\n",
       "  1497,\n",
       "  1071,\n",
       "  2560,\n",
       "  3618],\n",
       " [1920, 1990, 3978, 3556, 778, 281, 1374, 4825, 2473, 4981, 4255],\n",
       " [1374, 2114, 1748, 1740, 1176, 4029, 4671],\n",
       " [2984, 1374, 4265, 2549, 863, 3571, 281, 900, 1636, 1623, 3368, 2480, 4621],\n",
       " [1374, 3787, 1655, 1544],\n",
       " [4964, 2003, 3163, 4073, 3660, 4221, 2929, 1083, 863, 3062],\n",
       " [553, 1670, 1187, 1976, 1374, 238, 315, 2877],\n",
       " [1374],\n",
       " [4427,\n",
       "  3784,\n",
       "  1433,\n",
       "  607,\n",
       "  1829,\n",
       "  1076,\n",
       "  2453,\n",
       "  4825,\n",
       "  789,\n",
       "  2654,\n",
       "  1374,\n",
       "  240,\n",
       "  2034,\n",
       "  3951,\n",
       "  4204],\n",
       " [1083, 274, 1492, 1562, 1607, 3858, 4699, 409, 488, 1374, 1893, 1636],\n",
       " [4664, 968, 1484, 3149, 1835, 865, 3556, 2640, 4202, 1929, 2592, 3633],\n",
       " [2723, 3320, 781, 3256, 164, 1210, 1356, 93, 3237, 2899],\n",
       " [154,\n",
       "  4390,\n",
       "  4356,\n",
       "  4936,\n",
       "  4310,\n",
       "  4455,\n",
       "  4775,\n",
       "  4293,\n",
       "  2480,\n",
       "  4662,\n",
       "  4671,\n",
       "  1374,\n",
       "  1837,\n",
       "  1196,\n",
       "  3281,\n",
       "  2096],\n",
       " [4418, 1374, 2072, 2654, 1360, 1374, 4597, 2645, 1058],\n",
       " [4695, 2943, 3500, 4543, 3759, 4209],\n",
       " [4286, 332, 124, 1374, 1607, 324, 1782, 2715, 177, 93, 1433],\n",
       " [4791, 1374, 1490, 4355],\n",
       " [3461, 2284, 291, 1374, 3085, 3027, 4619, 3615, 3640, 1176, 4202, 3085, 4774],\n",
       " [1374, 3329],\n",
       " [1091, 3863, 1374],\n",
       " [1781, 2915, 1374],\n",
       " [4288, 1002, 1374],\n",
       " [1374, 4958, 183, 1457, 4695, 3411, 1457, 4571, 4045, 1017, 272],\n",
       " [3498, 789, 2654, 1374],\n",
       " [773, 4309, 2457, 4316, 1374, 2654, 411, 1718, 73, 1786],\n",
       " [1374,\n",
       "  863,\n",
       "  1559,\n",
       "  4255,\n",
       "  2190,\n",
       "  673,\n",
       "  370,\n",
       "  2237,\n",
       "  4819,\n",
       "  2814,\n",
       "  4883,\n",
       "  507,\n",
       "  3815,\n",
       "  3955,\n",
       "  4387],\n",
       " [2654, 4949, 1317, 4390, 2893, 4236, 2980, 1904, 524, 937],\n",
       " [1374],\n",
       " [1627, 1374, 2915, 2098, 979, 3619, 697, 4958],\n",
       " [2472, 3165, 1374, 3800, 4664, 3165],\n",
       " [1374, 1083, 4429, 4863, 1234, 4056, 399, 3506, 1893, 4645, 3062],\n",
       " [2866, 3350, 468, 2976, 2280],\n",
       " [3429, 3863, 2647, 2654, 4364, 1636, 1433, 1643],\n",
       " [1374, 2654, 411, 4278, 3263, 411, 55, 4936, 4447, 2119]]"
      ]
     },
     "execution_count": 54,
     "metadata": {},
     "output_type": "execute_result"
    }
   ],
   "source": [
    "one_hot_representation"
   ]
  },
  {
   "cell_type": "code",
   "execution_count": 55,
   "metadata": {},
   "outputs": [],
   "source": [
    "sentence_length = 20\n",
    "embedded_values = pad_sequences(one_hot_representation , padding = 'post' , maxlen = sentence_length)"
   ]
  },
  {
   "cell_type": "code",
   "execution_count": 56,
   "metadata": {},
   "outputs": [
    {
     "data": {
      "text/plain": [
       "array([[ 468, 1813, 2521, ...,    0,    0,    0],\n",
       "       [2741,  477, 4279, ...,    0,    0,    0],\n",
       "       [3439,  468, 3102, ...,    0,    0,    0],\n",
       "       ...,\n",
       "       [2866, 3350,  468, ...,    0,    0,    0],\n",
       "       [3429, 3863, 2647, ...,    0,    0,    0],\n",
       "       [1374, 2654,  411, ...,    0,    0,    0]])"
      ]
     },
     "execution_count": 56,
     "metadata": {},
     "output_type": "execute_result"
    }
   ],
   "source": [
    "embedded_values"
   ]
  },
  {
   "cell_type": "code",
   "execution_count": 57,
   "metadata": {},
   "outputs": [
    {
     "name": "stdout",
     "output_type": "stream",
     "text": [
      "WARNING:tensorflow:From C:\\Users\\AASHU\\anaconda3\\lib\\site-packages\\tensorflow\\python\\keras\\layers\\core.py:143: calling dropout (from tensorflow.python.ops.nn_ops) with keep_prob is deprecated and will be removed in a future version.\n",
      "Instructions for updating:\n",
      "Please use `rate` instead of `keep_prob`. Rate should be set to `rate = 1 - keep_prob`.\n",
      "_________________________________________________________________\n",
      "Layer (type)                 Output Shape              Param #   \n",
      "=================================================================\n",
      "embedding (Embedding)        (None, 20, 40)            200000    \n",
      "_________________________________________________________________\n",
      "dropout (Dropout)            (None, 20, 40)            0         \n",
      "_________________________________________________________________\n",
      "lstm_2 (LSTM)                (None, 100)               56400     \n",
      "_________________________________________________________________\n",
      "dropout_1 (Dropout)          (None, 100)               0         \n",
      "_________________________________________________________________\n",
      "dense_4 (Dense)              (None, 1)                 101       \n",
      "=================================================================\n",
      "Total params: 256,501\n",
      "Trainable params: 256,501\n",
      "Non-trainable params: 0\n",
      "_________________________________________________________________\n"
     ]
    }
   ],
   "source": [
    "embedded_vector_features = 40\n",
    "model = Sequential()\n",
    "model.add(Embedding(vocabulary_size , embedded_vector_features , input_length = sentence_length))\n",
    "model.add(Dropout(0.3))\n",
    "model.add(LSTM(100))\n",
    "model.add(Dropout(0.3))\n",
    "model.add(Dense(1 , activation = 'sigmoid'))\n",
    "model.compile(loss = 'binary_crossentropy' , optimizer = 'adam' , metrics  =['accuracy'])\n",
    "model.summary()"
   ]
  },
  {
   "cell_type": "code",
   "execution_count": 58,
   "metadata": {},
   "outputs": [],
   "source": [
    "import numpy as np\n",
    "\n",
    "x_final = np.array(embedded_values)\n",
    "y_final = np.array(y)"
   ]
  },
  {
   "cell_type": "code",
   "execution_count": 59,
   "metadata": {},
   "outputs": [
    {
     "data": {
      "text/plain": [
       "array([[ 468, 1813, 2521, ...,    0,    0,    0],\n",
       "       [2741,  477, 4279, ...,    0,    0,    0],\n",
       "       [3439,  468, 3102, ...,    0,    0,    0],\n",
       "       ...,\n",
       "       [2866, 3350,  468, ...,    0,    0,    0],\n",
       "       [3429, 3863, 2647, ...,    0,    0,    0],\n",
       "       [1374, 2654,  411, ...,    0,    0,    0]])"
      ]
     },
     "execution_count": 59,
     "metadata": {},
     "output_type": "execute_result"
    }
   ],
   "source": [
    "x_final"
   ]
  },
  {
   "cell_type": "code",
   "execution_count": 60,
   "metadata": {},
   "outputs": [
    {
     "data": {
      "text/plain": [
       "array([0, 1, 0, 1, 1, 1, 1, 0, 0, 1, 1, 1, 1, 0, 0, 1, 1, 0, 1, 0, 1, 1,\n",
       "       0, 0, 1, 1, 1, 0, 1, 0, 0, 0, 0, 1, 1, 0, 0, 0, 0, 0, 1, 1, 1, 0,\n",
       "       1, 0, 0, 1, 1, 1, 1, 1, 1, 0, 1, 0, 1, 0, 1, 1, 0, 1, 1, 0, 0, 1,\n",
       "       1, 1, 1, 1, 1, 0, 1, 1, 1, 0, 0, 1, 0, 1, 1, 1, 0, 1, 1, 0, 1, 1,\n",
       "       1, 1, 1, 1, 1, 0, 1, 0, 1, 1, 0, 0, 1, 1, 1, 0, 0, 1, 1, 1, 1, 0,\n",
       "       1, 1, 0, 1, 1, 1, 1, 1, 1, 1, 1, 1, 1, 1, 1, 1, 1, 1, 0, 1, 0, 1,\n",
       "       1, 1, 0, 1, 1, 0, 1, 1, 1, 0, 0, 0, 1, 1, 0, 1, 1, 1, 1, 0, 0, 0,\n",
       "       1, 0, 1, 1, 1, 0, 1, 1, 1, 1, 0, 0, 1, 0, 0, 1, 0, 1, 0, 1, 1, 1,\n",
       "       1, 0, 1, 1, 0, 1, 1, 0, 1, 1, 1, 1, 1, 1, 1, 1, 1, 1, 1, 1, 1, 0,\n",
       "       1, 1], dtype=int64)"
      ]
     },
     "execution_count": 60,
     "metadata": {},
     "output_type": "execute_result"
    }
   ],
   "source": [
    "y_final"
   ]
  },
  {
   "cell_type": "code",
   "execution_count": 70,
   "metadata": {},
   "outputs": [],
   "source": [
    "from sklearn.model_selection import train_test_split\n",
    "x_train2,x_test2 , y_train2 , y_test2 = train_test_split(x_final , y_final ,test_size = 0.25 ,random_state =30)"
   ]
  },
  {
   "cell_type": "code",
   "execution_count": 71,
   "metadata": {},
   "outputs": [
    {
     "name": "stdout",
     "output_type": "stream",
     "text": [
      "Train on 150 samples, validate on 50 samples\n",
      "Epoch 1/20\n",
      "150/150 [==============================] - 0s 1ms/sample - loss: 0.8244 - acc: 0.9000 - val_loss: 0.3875 - val_acc: 0.8800\n",
      "Epoch 2/20\n",
      "150/150 [==============================] - 0s 2ms/sample - loss: 0.1808 - acc: 0.9533 - val_loss: 0.2537 - val_acc: 0.9000\n",
      "Epoch 3/20\n",
      "150/150 [==============================] - 0s 2ms/sample - loss: 0.1876 - acc: 0.9467 - val_loss: 0.2492 - val_acc: 0.9200\n",
      "Epoch 4/20\n",
      "150/150 [==============================] - 0s 2ms/sample - loss: 0.0773 - acc: 0.9867 - val_loss: 0.3468 - val_acc: 0.8800\n",
      "Epoch 5/20\n",
      "150/150 [==============================] - 0s 2ms/sample - loss: 0.0654 - acc: 0.9867 - val_loss: 0.4087 - val_acc: 0.9000\n",
      "Epoch 6/20\n",
      "150/150 [==============================] - 0s 2ms/sample - loss: 0.0422 - acc: 0.9867 - val_loss: 0.3848 - val_acc: 0.9000\n",
      "Epoch 7/20\n",
      "150/150 [==============================] - 0s 2ms/sample - loss: 0.0136 - acc: 1.0000 - val_loss: 0.3584 - val_acc: 0.9200\n",
      "Epoch 8/20\n",
      "150/150 [==============================] - 0s 2ms/sample - loss: 0.0078 - acc: 1.0000 - val_loss: 0.3451 - val_acc: 0.9200\n",
      "Epoch 9/20\n",
      "150/150 [==============================] - 0s 2ms/sample - loss: 0.0072 - acc: 1.0000 - val_loss: 0.3449 - val_acc: 0.9200\n",
      "Epoch 10/20\n",
      "150/150 [==============================] - 0s 1ms/sample - loss: 0.0053 - acc: 1.0000 - val_loss: 0.3595 - val_acc: 0.9200\n",
      "Epoch 11/20\n",
      "150/150 [==============================] - 0s 2ms/sample - loss: 0.0086 - acc: 1.0000 - val_loss: 0.3617 - val_acc: 0.9200\n",
      "Epoch 12/20\n",
      "150/150 [==============================] - 0s 2ms/sample - loss: 0.0131 - acc: 0.9933 - val_loss: 0.3739 - val_acc: 0.9200\n",
      "Epoch 13/20\n",
      "150/150 [==============================] - 0s 2ms/sample - loss: 0.0031 - acc: 1.0000 - val_loss: 0.3833 - val_acc: 0.9200\n",
      "Epoch 14/20\n",
      "150/150 [==============================] - 0s 2ms/sample - loss: 0.0025 - acc: 1.0000 - val_loss: 0.4002 - val_acc: 0.9200\n",
      "Epoch 15/20\n",
      "150/150 [==============================] - 0s 2ms/sample - loss: 0.0021 - acc: 1.0000 - val_loss: 0.4189 - val_acc: 0.9000\n",
      "Epoch 16/20\n",
      "150/150 [==============================] - 0s 2ms/sample - loss: 0.0028 - acc: 1.0000 - val_loss: 0.4459 - val_acc: 0.9200\n",
      "Epoch 17/20\n",
      "150/150 [==============================] - 0s 2ms/sample - loss: 0.0014 - acc: 1.0000 - val_loss: 0.4669 - val_acc: 0.9200\n",
      "Epoch 18/20\n",
      "150/150 [==============================] - 0s 2ms/sample - loss: 0.0020 - acc: 1.0000 - val_loss: 0.4849 - val_acc: 0.9200\n",
      "Epoch 19/20\n",
      "150/150 [==============================] - 0s 2ms/sample - loss: 0.0012 - acc: 1.0000 - val_loss: 0.5059 - val_acc: 0.9200\n",
      "Epoch 20/20\n",
      "150/150 [==============================] - 0s 2ms/sample - loss: 0.0012 - acc: 1.0000 - val_loss: 0.5195 - val_acc: 0.9200\n"
     ]
    },
    {
     "data": {
      "text/plain": [
       "<tensorflow.python.keras.callbacks.History at 0x223dfc04348>"
      ]
     },
     "execution_count": 71,
     "metadata": {},
     "output_type": "execute_result"
    }
   ],
   "source": [
    "model.fit(x_train2,y_train2,validation_data = (x_test2 , y_test2) , epochs =20 , batch_size =32)"
   ]
  },
  {
   "cell_type": "code",
   "execution_count": 72,
   "metadata": {},
   "outputs": [],
   "source": [
    "y_pred2 = model.predict(x_test2)"
   ]
  },
  {
   "cell_type": "code",
   "execution_count": 74,
   "metadata": {},
   "outputs": [
    {
     "data": {
      "text/plain": [
       "0.9781746031746031"
      ]
     },
     "execution_count": 74,
     "metadata": {},
     "output_type": "execute_result"
    }
   ],
   "source": [
    "from sklearn.metrics import roc_auc_score\n",
    "\n",
    "roc_auc_score(y_test2 , y_pred2)"
   ]
  },
  {
   "cell_type": "markdown",
   "metadata": {},
   "source": [
    "WE GOT A WONDERFUL ACCURACY USING LSTMS AND TRAIN IT OVER 20 EPOCHS"
   ]
  },
  {
   "cell_type": "code",
   "execution_count": null,
   "metadata": {},
   "outputs": [],
   "source": []
  },
  {
   "cell_type": "code",
   "execution_count": null,
   "metadata": {},
   "outputs": [],
   "source": []
  }
 ],
 "metadata": {
  "kernelspec": {
   "display_name": "Python 3",
   "language": "python",
   "name": "python3"
  },
  "language_info": {
   "codemirror_mode": {
    "name": "ipython",
    "version": 3
   },
   "file_extension": ".py",
   "mimetype": "text/x-python",
   "name": "python",
   "nbconvert_exporter": "python",
   "pygments_lexer": "ipython3",
   "version": "3.7.6"
  }
 },
 "nbformat": 4,
 "nbformat_minor": 4
}
